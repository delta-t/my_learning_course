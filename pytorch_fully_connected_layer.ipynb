{
  "nbformat": 4,
  "nbformat_minor": 0,
  "metadata": {
    "colab": {
      "name": "Untitled7.ipynb",
      "version": "0.3.2",
      "provenance": [],
      "include_colab_link": true
    },
    "kernelspec": {
      "name": "python3",
      "display_name": "Python 3"
    }
  },
  "cells": [
    {
      "cell_type": "markdown",
      "metadata": {
        "id": "view-in-github",
        "colab_type": "text"
      },
      "source": [
        "<a href=\"https://colab.research.google.com/github/newman001/my_learning_progress/blob/master/pytorch_fully_connected_layer.ipynb\" target=\"_parent\"><img src=\"https://colab.research.google.com/assets/colab-badge.svg\" alt=\"Open In Colab\"/></a>"
      ]
    },
    {
      "cell_type": "code",
      "metadata": {
        "id": "EBF29w5lqSPz",
        "colab_type": "code",
        "colab": {
          "base_uri": "https://localhost:8080/",
          "height": 68
        },
        "outputId": "a18beddd-51dc-4821-aca2-c9c95d04e289"
      },
      "source": [
        "import torch\n",
        "\n",
        "x = torch.tensor([[10., 20.]])\n",
        "\n",
        "fc = torch.nn.Linear(2, 3)\n",
        "\n",
        "w = torch.tensor([[11., 12.], [21., 22.], [31., 32]])\n",
        "fc.weight.data = w\n",
        "\n",
        "b = torch.tensor([[31., 32., 33.]])\n",
        "fc.bias.data = b\n",
        "\n",
        "fc_out = fc(x)\n",
        "print(fc_out)\n",
        "fc_out_alternative = torch.mm(x, w.t()) + b\n",
        "print(fc_out_alternative)\n",
        "print(fc_out == fc_out_alternative)"
      ],
      "execution_count": 14,
      "outputs": [
        {
          "output_type": "stream",
          "text": [
            "tensor([[381., 682., 983.]], grad_fn=<AddmmBackward>)\n",
            "tensor([[381., 682., 983.]])\n",
            "tensor([[1, 1, 1]], dtype=torch.uint8)\n"
          ],
          "name": "stdout"
        }
      ]
    }
  ]
}